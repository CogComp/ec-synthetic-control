{
 "cells": [
  {
   "cell_type": "code",
   "execution_count": 1,
   "metadata": {},
   "outputs": [],
   "source": [
    "%load_ext autoreload\n",
    "%autoreload 2"
   ]
  },
  {
   "cell_type": "code",
   "execution_count": 1,
   "metadata": {},
   "outputs": [],
   "source": [
    "from impl.synthetic_control import _llm_check_event_contains_or_similar"
   ]
  },
  {
   "cell_type": "code",
   "execution_count": 2,
   "metadata": {},
   "outputs": [
    {
     "name": "stdout",
     "output_type": "stream",
     "text": [
      "False\n",
      "[does a similar event to event B take place in event A]: False - Event A states that 'He did not sleep,' which is the opposite of 'He fell asleep' in Event B. Therefore, a similar event to Event B does not take place in Event A.\n",
      "[does event A explicitly mention a similar event to event B]: True - Event A ('He did not sleep.') is the opposite of Event B ('He fell asleep.'), as not sleeping is the absence of falling asleep. Therefore, they are explicitly related in terms of sleep.\n",
      "[are events A and B similar]: False - Event A states that 'He did not sleep' while Event B states that 'He fell asleep', indicating opposite states of sleeping and not sleeping. Therefore, the events are not similar.\n",
      "[does event A explicitly state a similar action or outcome to event B]: False - Event A states that 'He did not sleep,' which is the opposite of 'He fell asleep' in Event B. Therefore, the actions described in the two events are not similar.\n",
      "[is event B a subset of event A]: False - Event B is not a subset of Event A because the two events have opposite meanings - Event A states that 'He did not sleep' while Event B states that 'He fell asleep'. Therefore, Event B is not a subset of Event A.\n"
     ]
    }
   ],
   "source": [
    "res = _llm_check_event_contains_or_similar(\n",
    "    \"He did not sleep.\",\n",
    "    \"He fell asleep.\"\n",
    ")\n",
    "\n",
    "print(res.is_similar)\n",
    "print(res.reasoning)"
   ]
  },
  {
   "cell_type": "code",
   "execution_count": 8,
   "metadata": {},
   "outputs": [
    {
     "name": "stdout",
     "output_type": "stream",
     "text": [
      "precision=0.23655913978494625 recall=0.6111111111111112 fpr=0.7029702970297029 fnr=0.3888888888888889\n"
     ]
    }
   ],
   "source": [
    "import pandas as pd\n",
    "import numpy as np\n",
    "\n",
    "sc_res = pd.read_json(\"output/05-22-24/idx_to_run.json.output\", lines=True)\n",
    "tp = np.sum(sc_res[\"tp\"])\n",
    "fp = np.sum(sc_res[\"fp\"])\n",
    "tn = np.sum(sc_res[\"tn\"])\n",
    "fn = np.sum(sc_res[\"fn\"])\n",
    "precision = tp / (tp + fp)\n",
    "recall = tp / (tp + fn)\n",
    "fpr = fp / (fp + tn)\n",
    "fnr = fn / (fn + tp)\n",
    "print(f\"{precision=} {recall=} {fpr=} {fnr=}\")"
   ]
  },
  {
   "cell_type": "code",
   "execution_count": 10,
   "metadata": {},
   "outputs": [
    {
     "name": "stdout",
     "output_type": "stream",
     "text": [
      "gpt_precision=0.25 gpt_recall=1.0 gpt_fpr=1.0 gpt_fnr=0.0\n"
     ]
    }
   ],
   "source": [
    "n = len(sc_res)\n",
    "gpt_tp = n\n",
    "gpt_fp = 3 * n\n",
    "gpt_tn = 0\n",
    "gpt_fn = 0\n",
    "gpt_precision = gpt_tp / (gpt_tp + gpt_fp)\n",
    "gpt_recall = gpt_tp / (gpt_tp + gpt_fn)\n",
    "gpt_fpr = gpt_fp / (gpt_fp + gpt_tn)\n",
    "gpt_fnr = gpt_fn / (gpt_fn + gpt_tp)\n",
    "print(f\"{gpt_precision=} {gpt_recall=} {gpt_fpr=} {gpt_fnr=}\")"
   ]
  }
 ],
 "metadata": {
  "kernelspec": {
   "display_name": "ec-synthetic-control",
   "language": "python",
   "name": "python3"
  },
  "language_info": {
   "codemirror_mode": {
    "name": "ipython",
    "version": 3
   },
   "file_extension": ".py",
   "mimetype": "text/x-python",
   "name": "python",
   "nbconvert_exporter": "python",
   "pygments_lexer": "ipython3",
   "version": "3.12.2"
  }
 },
 "nbformat": 4,
 "nbformat_minor": 2
}
